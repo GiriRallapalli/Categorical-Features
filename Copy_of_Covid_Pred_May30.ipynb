{
  "nbformat": 4,
  "nbformat_minor": 0,
  "metadata": {
    "colab": {
      "name": "Copy of Covid_Pred_May30.ipynb",
      "provenance": [],
      "collapsed_sections": [],
      "include_colab_link": true
    },
    "kernelspec": {
      "name": "python3",
      "display_name": "Python 3"
    }
  },
  "cells": [
    {
      "cell_type": "markdown",
      "metadata": {
        "id": "view-in-github",
        "colab_type": "text"
      },
      "source": [
        "<a href=\"https://colab.research.google.com/github/GiriRallapalli/Categorical-Features/blob/master/Copy_of_Covid_Pred_May30.ipynb\" target=\"_parent\"><img src=\"https://colab.research.google.com/assets/colab-badge.svg\" alt=\"Open In Colab\"/></a>"
      ]
    },
    {
      "cell_type": "code",
      "metadata": {
        "id": "KO87mzu_OgAf",
        "colab_type": "code",
        "colab": {}
      },
      "source": [
        "import pandas as pd"
      ],
      "execution_count": 0,
      "outputs": []
    },
    {
      "cell_type": "code",
      "metadata": {
        "id": "JjHUq8jOO_d9",
        "colab_type": "code",
        "colab": {}
      },
      "source": [
        "df1 = pd.read_csv(\"Covid30.csv\")"
      ],
      "execution_count": 0,
      "outputs": []
    },
    {
      "cell_type": "code",
      "metadata": {
        "id": "ImFTGI2zOlxH",
        "colab_type": "code",
        "outputId": "45afbcda-cff7-46f0-d6b3-126bd411bdb3",
        "colab": {
          "base_uri": "https://localhost:8080/",
          "height": 34
        }
      },
      "source": [
        "df1.head(5)\n",
        "df1.shape"
      ],
      "execution_count": 0,
      "outputs": [
        {
          "output_type": "execute_result",
          "data": {
            "text/plain": [
              "(85, 1)"
            ]
          },
          "metadata": {
            "tags": []
          },
          "execution_count": 830
        }
      ]
    },
    {
      "cell_type": "code",
      "metadata": {
        "id": "9wMDzmnPPPWQ",
        "colab_type": "code",
        "outputId": "88bbcb6b-355f-4768-b1f8-53b4ae0af3c7",
        "colab": {
          "base_uri": "https://localhost:8080/",
          "height": 282
        }
      },
      "source": [
        "import matplotlib.pyplot as plt\n",
        "plt.plot(df1)"
      ],
      "execution_count": 0,
      "outputs": [
        {
          "output_type": "execute_result",
          "data": {
            "text/plain": [
              "[<matplotlib.lines.Line2D at 0x7f469340c3c8>]"
            ]
          },
          "metadata": {
            "tags": []
          },
          "execution_count": 831
        },
        {
          "output_type": "display_data",
          "data": {
            "image/png": "[encoded data removed]",
            "text/plain": [
              "<Figure size 432x288 with 1 Axes>"
            ]
          },
          "metadata": {
            "tags": [],
            "needs_background": "light"
          }
        }
      ]
    },
    {
      "cell_type": "code",
      "metadata": {
        "id": "x4Lg8TXpRFug",
        "colab_type": "code",
        "outputId": "de3646fb-cb2c-4cb9-90da-371195132689",
        "colab": {
          "base_uri": "https://localhost:8080/",
          "height": 272
        }
      },
      "source": [
        "import numpy as np\n",
        "print(df1)\n",
        "from sklearn.preprocessing import MinMaxScaler\n",
        "scaler=MinMaxScaler(feature_range=(0,1))\n",
        "df1=scaler.fit_transform(np.array(df1).reshape(-1,1))\n",
        "#print('{1:.2f}%'.format(df1))\n",
        "print(df1.dtype)"
      ],
      "execution_count": 0,
      "outputs": [
        {
          "output_type": "stream",
          "text": [
            "       3\n",
            "0      1\n",
            "1     22\n",
            "2      1\n",
            "3      1\n",
            "4      3\n",
            "..   ...\n",
            "80  6568\n",
            "81  6629\n",
            "82  7113\n",
            "83  6414\n",
            "84  5843\n",
            "\n",
            "[85 rows x 1 columns]\n",
            "float64\n"
          ],
          "name": "stdout"
        }
      ]
    },
    {
      "cell_type": "code",
      "metadata": {
        "id": "S4WcHoBqRJLG",
        "colab_type": "code",
        "colab": {}
      },
      "source": [
        "##splitting dataset into train and test split\n",
        "training_size=int(len(df1)*0.70)\n",
        "test_size=len(df1)-training_size\n",
        "train_data,test_data=df1[0:training_size,:],df1[training_size:len(df1),:1]"
      ],
      "execution_count": 0,
      "outputs": []
    },
    {
      "cell_type": "code",
      "metadata": {
        "id": "FveUfOnoRNmR",
        "colab_type": "code",
        "outputId": "3db72df6-b9ac-44bd-c8b8-e7b286d16c2a",
        "colab": {
          "base_uri": "https://localhost:8080/",
          "height": 34
        }
      },
      "source": [
        "training_size,test_size"
      ],
      "execution_count": 0,
      "outputs": [
        {
          "output_type": "execute_result",
          "data": {
            "text/plain": [
              "(59, 26)"
            ]
          },
          "metadata": {
            "tags": []
          },
          "execution_count": 834
        }
      ]
    },
    {
      "cell_type": "code",
      "metadata": {
        "id": "ASHTXLQLRQru",
        "colab_type": "code",
        "outputId": "c35ce824-c161-4ef3-cedf-c8b9c1daf631",
        "colab": {
          "base_uri": "https://localhost:8080/",
          "height": 1000
        }
      },
      "source": [
        "train_data"
      ],
      "execution_count": 0,
      "outputs": [
        {
          "output_type": "execute_result",
          "data": {
            "text/plain": [
              "array([[1.406e-04],\n",
              "       [3.093e-03],\n",
              "       [1.406e-04],\n",
              "       [1.406e-04],\n",
              "       [4.218e-04],\n",
              "       [8.435e-04],\n",
              "       [9.841e-04],\n",
              "       [2.109e-03],\n",
              "       [0.000e+00],\n",
              "       [1.687e-03],\n",
              "       [1.125e-03],\n",
              "       [2.531e-03],\n",
              "       [1.968e-03],\n",
              "       [2.109e-03],\n",
              "       [1.968e-03],\n",
              "       [3.655e-03],\n",
              "       [3.515e-03],\n",
              "       [7.732e-03],\n",
              "       [1.167e-02],\n",
              "       [8.998e-03],\n",
              "       [1.448e-02],\n",
              "       [5.202e-03],\n",
              "       [1.701e-02],\n",
              "       [9.841e-03],\n",
              "       [2.249e-02],\n",
              "       [1.406e-02],\n",
              "       [5.202e-03],\n",
              "       [3.191e-02],\n",
              "       [2.053e-02],\n",
              "       [8.449e-02],\n",
              "       [7.662e-02],\n",
              "       [7.254e-02],\n",
              "       [7.437e-02],\n",
              "       [9.855e-02],\n",
              "       [6.875e-02],\n",
              "       [8.056e-02],\n",
              "       [7.943e-02],\n",
              "       [1.137e-01],\n",
              "       [1.230e-01],\n",
              "       [1.189e-01],\n",
              "       [1.067e-01],\n",
              "       [1.755e-01],\n",
              "       [1.454e-01],\n",
              "       [1.241e-01],\n",
              "       [1.490e-01],\n",
              "       [1.296e-01],\n",
              "       [2.830e-01],\n",
              "       [1.757e-01],\n",
              "       [1.299e-01],\n",
              "       [2.166e-01],\n",
              "       [1.814e-01],\n",
              "       [2.346e-01],\n",
              "       [1.979e-01],\n",
              "       [2.581e-01],\n",
              "       [2.259e-01],\n",
              "       [2.195e-01],\n",
              "       [2.633e-01],\n",
              "       [2.443e-01],\n",
              "       [2.532e-01]])"
            ]
          },
          "metadata": {
            "tags": []
          },
          "execution_count": 835
        }
      ]
    },
    {
      "cell_type": "code",
      "metadata": {
        "id": "vZ73TfsSRU9t",
        "colab_type": "code",
        "colab": {}
      },
      "source": [
        "import numpy\n",
        "def create_dataset(dataset, time_step=1):\n",
        "\tdataX, dataY = [], []\n",
        "\tfor i in range(len(dataset)-time_step-1):\n",
        "\t\ta = dataset[i:(i+time_step), 0]   ###i=0, 0,1,2,3-----99   100 \n",
        "\t\tdataX.append(a)\n",
        "\t\tdataY.append(dataset[i + time_step, 0])\n",
        "\treturn numpy.array(dataX), numpy.array(dataY)"
      ],
      "execution_count": 0,
      "outputs": []
    },
    {
      "cell_type": "code",
      "metadata": {
        "id": "pgHgOe04RZJI",
        "colab_type": "code",
        "colab": {}
      },
      "source": [
        "time_step = 6\n",
        "X_train, y_train = create_dataset(train_data, time_step)\n",
        "X_test, ytest = create_dataset(test_data, time_step)"
      ],
      "execution_count": 0,
      "outputs": []
    },
    {
      "cell_type": "code",
      "metadata": {
        "id": "Whh0QheGRbRo",
        "colab_type": "code",
        "outputId": "e87bea29-6476-4c0a-bf1f-b21d388cd6cb",
        "colab": {
          "base_uri": "https://localhost:8080/",
          "height": 68
        }
      },
      "source": [
        "print(X_train.shape), print(y_train.shape)"
      ],
      "execution_count": 0,
      "outputs": [
        {
          "output_type": "stream",
          "text": [
            "(52, 6)\n",
            "(52,)\n"
          ],
          "name": "stdout"
        },
        {
          "output_type": "execute_result",
          "data": {
            "text/plain": [
              "(None, None)"
            ]
          },
          "metadata": {
            "tags": []
          },
          "execution_count": 838
        }
      ]
    },
    {
      "cell_type": "code",
      "metadata": {
        "id": "Vl7rT02vRfcp",
        "colab_type": "code",
        "outputId": "c4915455-661e-46fc-dcba-5b5ae01be245",
        "colab": {
          "base_uri": "https://localhost:8080/",
          "height": 68
        }
      },
      "source": [
        "print(X_test.shape), print(ytest.shape)"
      ],
      "execution_count": 0,
      "outputs": [
        {
          "output_type": "stream",
          "text": [
            "(19, 6)\n",
            "(19,)\n"
          ],
          "name": "stdout"
        },
        {
          "output_type": "execute_result",
          "data": {
            "text/plain": [
              "(None, None)"
            ]
          },
          "metadata": {
            "tags": []
          },
          "execution_count": 839
        }
      ]
    },
    {
      "cell_type": "code",
      "metadata": {
        "id": "8Ym4VFrJRubd",
        "colab_type": "code",
        "colab": {}
      },
      "source": [
        "X_train =X_train.reshape(X_train.shape[0],X_train.shape[1] , 1)\n",
        "X_test = X_test.reshape(X_test.shape[0],X_test.shape[1] , 1)"
      ],
      "execution_count": 0,
      "outputs": []
    },
    {
      "cell_type": "code",
      "metadata": {
        "id": "KZo8xfXvRw5d",
        "colab_type": "code",
        "colab": {}
      },
      "source": [
        "from tensorflow.keras.models import Sequential\n",
        "from tensorflow.keras.layers import Dense\n",
        "from tensorflow.keras.layers import LSTM"
      ],
      "execution_count": 0,
      "outputs": []
    },
    {
      "cell_type": "code",
      "metadata": {
        "id": "QVJGRfVMRzOy",
        "colab_type": "code",
        "colab": {}
      },
      "source": [
        "model=Sequential()\n",
        "model.add(LSTM(3,return_sequences=True,input_shape=(6,1)))\n",
        "model.add(LSTM(3,return_sequences=True))\n",
        "model.add(LSTM(3))\n",
        "model.add(Dense(1))\n",
        "model.compile(loss='mean_squared_error',optimizer='adam')"
      ],
      "execution_count": 0,
      "outputs": []
    },
    {
      "cell_type": "code",
      "metadata": {
        "id": "D24a6tmoR1Y0",
        "colab_type": "code",
        "outputId": "9a38fb2b-ede7-4695-c700-d960cb2e3c47",
        "colab": {
          "base_uri": "https://localhost:8080/",
          "height": 289
        }
      },
      "source": [
        "model.summary()\n"
      ],
      "execution_count": 0,
      "outputs": [
        {
          "output_type": "stream",
          "text": [
            "Model: \"sequential_23\"\n",
            "_________________________________________________________________\n",
            "Layer (type)                 Output Shape              Param #   \n",
            "=================================================================\n",
            "lstm_69 (LSTM)               (None, 6, 3)              60        \n",
            "_________________________________________________________________\n",
            "lstm_70 (LSTM)               (None, 6, 3)              84        \n",
            "_________________________________________________________________\n",
            "lstm_71 (LSTM)               (None, 3)                 84        \n",
            "_________________________________________________________________\n",
            "dense_23 (Dense)             (None, 1)                 4         \n",
            "=================================================================\n",
            "Total params: 232\n",
            "Trainable params: 232\n",
            "Non-trainable params: 0\n",
            "_________________________________________________________________\n"
          ],
          "name": "stdout"
        }
      ]
    },
    {
      "cell_type": "code",
      "metadata": {
        "id": "gvIWE9lQR3nT",
        "colab_type": "code",
        "outputId": "7dc46467-b1ed-4191-b63f-53eedc567789",
        "colab": {
          "base_uri": "https://localhost:8080/",
          "height": 1000
        }
      },
      "source": [
        "model.fit(X_train,y_train,validation_data=(X_test,ytest),epochs=100,batch_size=32,verbose=1)"
      ],
      "execution_count": 0,
      "outputs": [
        {
          "output_type": "stream",
          "text": [
            "Epoch 1/100\n",
            "2/2 [==============================] - 1s 496ms/step - loss: 0.0156 - val_loss: 0.4941\n",
            "Epoch 2/100\n",
            "2/2 [==============================] - 0s 21ms/step - loss: 0.0146 - val_loss: 0.4851\n",
            "Epoch 3/100\n",
            "2/2 [==============================] - 0s 21ms/step - loss: 0.0136 - val_loss: 0.4762\n",
            "Epoch 4/100\n",
            "2/2 [==============================] - 0s 22ms/step - loss: 0.0127 - val_loss: 0.4673\n",
            "Epoch 5/100\n",
            "2/2 [==============================] - 0s 21ms/step - loss: 0.0119 - val_loss: 0.4585\n",
            "Epoch 6/100\n",
            "2/2 [==============================] - 0s 22ms/step - loss: 0.0111 - val_loss: 0.4497\n",
            "Epoch 7/100\n",
            "2/2 [==============================] - 0s 23ms/step - loss: 0.0104 - val_loss: 0.4409\n",
            "Epoch 8/100\n",
            "2/2 [==============================] - 0s 21ms/step - loss: 0.0098 - val_loss: 0.4323\n",
            "Epoch 9/100\n",
            "2/2 [==============================] - 0s 21ms/step - loss: 0.0092 - val_loss: 0.4240\n",
            "Epoch 10/100\n",
            "2/2 [==============================] - 0s 21ms/step - loss: 0.0088 - val_loss: 0.4158\n",
            "Epoch 11/100\n",
            "2/2 [==============================] - 0s 22ms/step - loss: 0.0084 - val_loss: 0.4080\n",
            "Epoch 12/100\n",
            "2/2 [==============================] - 0s 22ms/step - loss: 0.0080 - val_loss: 0.4005\n",
            "Epoch 13/100\n",
            "2/2 [==============================] - 0s 22ms/step - loss: 0.0078 - val_loss: 0.3932\n",
            "Epoch 14/100\n",
            "2/2 [==============================] - 0s 22ms/step - loss: 0.0077 - val_loss: 0.3862\n",
            "Epoch 15/100\n",
            "2/2 [==============================] - 0s 20ms/step - loss: 0.0076 - val_loss: 0.3798\n",
            "Epoch 16/100\n",
            "2/2 [==============================] - 0s 20ms/step - loss: 0.0075 - val_loss: 0.3743\n",
            "Epoch 17/100\n",
            "2/2 [==============================] - 0s 25ms/step - loss: 0.0075 - val_loss: 0.3697\n",
            "Epoch 18/100\n",
            "2/2 [==============================] - 0s 21ms/step - loss: 0.0074 - val_loss: 0.3659\n",
            "Epoch 19/100\n",
            "2/2 [==============================] - 0s 21ms/step - loss: 0.0074 - val_loss: 0.3630\n",
            "Epoch 20/100\n",
            "2/2 [==============================] - 0s 21ms/step - loss: 0.0074 - val_loss: 0.3604\n",
            "Epoch 21/100\n",
            "2/2 [==============================] - 0s 22ms/step - loss: 0.0074 - val_loss: 0.3581\n",
            "Epoch 22/100\n",
            "2/2 [==============================] - 0s 21ms/step - loss: 0.0074 - val_loss: 0.3564\n",
            "Epoch 23/100\n",
            "2/2 [==============================] - 0s 21ms/step - loss: 0.0074 - val_loss: 0.3557\n",
            "Epoch 24/100\n",
            "2/2 [==============================] - 0s 22ms/step - loss: 0.0074 - val_loss: 0.3552\n",
            "Epoch 25/100\n",
            "2/2 [==============================] - 0s 21ms/step - loss: 0.0074 - val_loss: 0.3553\n",
            "Epoch 26/100\n",
            "2/2 [==============================] - 0s 23ms/step - loss: 0.0073 - val_loss: 0.3554\n",
            "Epoch 27/100\n",
            "2/2 [==============================] - 0s 21ms/step - loss: 0.0073 - val_loss: 0.3560\n",
            "Epoch 28/100\n",
            "2/2 [==============================] - 0s 22ms/step - loss: 0.0072 - val_loss: 0.3567\n",
            "Epoch 29/100\n",
            "2/2 [==============================] - 0s 23ms/step - loss: 0.0072 - val_loss: 0.3574\n",
            "Epoch 30/100\n",
            "2/2 [==============================] - 0s 25ms/step - loss: 0.0072 - val_loss: 0.3576\n",
            "Epoch 31/100\n",
            "2/2 [==============================] - 0s 21ms/step - loss: 0.0071 - val_loss: 0.3576\n",
            "Epoch 32/100\n",
            "2/2 [==============================] - 0s 20ms/step - loss: 0.0071 - val_loss: 0.3579\n",
            "Epoch 33/100\n",
            "2/2 [==============================] - 0s 21ms/step - loss: 0.0071 - val_loss: 0.3580\n",
            "Epoch 34/100\n",
            "2/2 [==============================] - 0s 22ms/step - loss: 0.0071 - val_loss: 0.3578\n",
            "Epoch 35/100\n",
            "2/2 [==============================] - 0s 24ms/step - loss: 0.0071 - val_loss: 0.3568\n",
            "Epoch 36/100\n",
            "2/2 [==============================] - 0s 25ms/step - loss: 0.0070 - val_loss: 0.3553\n",
            "Epoch 37/100\n",
            "2/2 [==============================] - 0s 22ms/step - loss: 0.0070 - val_loss: 0.3533\n",
            "Epoch 38/100\n",
            "2/2 [==============================] - 0s 22ms/step - loss: 0.0070 - val_loss: 0.3512\n",
            "Epoch 39/100\n",
            "2/2 [==============================] - 0s 21ms/step - loss: 0.0069 - val_loss: 0.3490\n",
            "Epoch 40/100\n",
            "2/2 [==============================] - 0s 21ms/step - loss: 0.0069 - val_loss: 0.3465\n",
            "Epoch 41/100\n",
            "2/2 [==============================] - 0s 21ms/step - loss: 0.0069 - val_loss: 0.3447\n",
            "Epoch 42/100\n",
            "2/2 [==============================] - 0s 23ms/step - loss: 0.0068 - val_loss: 0.3421\n",
            "Epoch 43/100\n",
            "2/2 [==============================] - 0s 20ms/step - loss: 0.0068 - val_loss: 0.3399\n",
            "Epoch 44/100\n",
            "2/2 [==============================] - 0s 21ms/step - loss: 0.0068 - val_loss: 0.3377\n",
            "Epoch 45/100\n",
            "2/2 [==============================] - 0s 24ms/step - loss: 0.0067 - val_loss: 0.3350\n",
            "Epoch 46/100\n",
            "2/2 [==============================] - 0s 20ms/step - loss: 0.0067 - val_loss: 0.3328\n",
            "Epoch 47/100\n",
            "2/2 [==============================] - 0s 20ms/step - loss: 0.0066 - val_loss: 0.3299\n",
            "Epoch 48/100\n",
            "2/2 [==============================] - 0s 21ms/step - loss: 0.0066 - val_loss: 0.3270\n",
            "Epoch 49/100\n",
            "2/2 [==============================] - 0s 23ms/step - loss: 0.0066 - val_loss: 0.3240\n",
            "Epoch 50/100\n",
            "2/2 [==============================] - 0s 21ms/step - loss: 0.0065 - val_loss: 0.3216\n",
            "Epoch 51/100\n",
            "2/2 [==============================] - 0s 22ms/step - loss: 0.0065 - val_loss: 0.3187\n",
            "Epoch 52/100\n",
            "2/2 [==============================] - 0s 21ms/step - loss: 0.0064 - val_loss: 0.3157\n",
            "Epoch 53/100\n",
            "2/2 [==============================] - 0s 22ms/step - loss: 0.0064 - val_loss: 0.3127\n",
            "Epoch 54/100\n",
            "2/2 [==============================] - 0s 23ms/step - loss: 0.0063 - val_loss: 0.3098\n",
            "Epoch 55/100\n",
            "2/2 [==============================] - 0s 25ms/step - loss: 0.0063 - val_loss: 0.3073\n",
            "Epoch 56/100\n",
            "2/2 [==============================] - 0s 21ms/step - loss: 0.0062 - val_loss: 0.3049\n",
            "Epoch 57/100\n",
            "2/2 [==============================] - 0s 21ms/step - loss: 0.0062 - val_loss: 0.3017\n",
            "Epoch 58/100\n",
            "2/2 [==============================] - 0s 20ms/step - loss: 0.0061 - val_loss: 0.2988\n",
            "Epoch 59/100\n",
            "2/2 [==============================] - 0s 20ms/step - loss: 0.0060 - val_loss: 0.2950\n",
            "Epoch 60/100\n",
            "2/2 [==============================] - 0s 23ms/step - loss: 0.0060 - val_loss: 0.2908\n",
            "Epoch 61/100\n",
            "2/2 [==============================] - 0s 21ms/step - loss: 0.0059 - val_loss: 0.2870\n",
            "Epoch 62/100\n",
            "2/2 [==============================] - 0s 21ms/step - loss: 0.0058 - val_loss: 0.2836\n",
            "Epoch 63/100\n",
            "2/2 [==============================] - 0s 21ms/step - loss: 0.0058 - val_loss: 0.2797\n",
            "Epoch 64/100\n",
            "2/2 [==============================] - 0s 21ms/step - loss: 0.0057 - val_loss: 0.2758\n",
            "Epoch 65/100\n",
            "2/2 [==============================] - 0s 26ms/step - loss: 0.0056 - val_loss: 0.2716\n",
            "Epoch 66/100\n",
            "2/2 [==============================] - 0s 21ms/step - loss: 0.0055 - val_loss: 0.2672\n",
            "Epoch 67/100\n",
            "2/2 [==============================] - 0s 21ms/step - loss: 0.0054 - val_loss: 0.2623\n",
            "Epoch 68/100\n",
            "2/2 [==============================] - 0s 21ms/step - loss: 0.0053 - val_loss: 0.2563\n",
            "Epoch 69/100\n",
            "2/2 [==============================] - 0s 20ms/step - loss: 0.0052 - val_loss: 0.2506\n",
            "Epoch 70/100\n",
            "2/2 [==============================] - 0s 21ms/step - loss: 0.0051 - val_loss: 0.2444\n",
            "Epoch 71/100\n",
            "2/2 [==============================] - 0s 22ms/step - loss: 0.0050 - val_loss: 0.2380\n",
            "Epoch 72/100\n",
            "2/2 [==============================] - 0s 21ms/step - loss: 0.0049 - val_loss: 0.2314\n",
            "Epoch 73/100\n",
            "2/2 [==============================] - 0s 21ms/step - loss: 0.0048 - val_loss: 0.2249\n",
            "Epoch 74/100\n",
            "2/2 [==============================] - 0s 25ms/step - loss: 0.0047 - val_loss: 0.2185\n",
            "Epoch 75/100\n",
            "2/2 [==============================] - 0s 22ms/step - loss: 0.0046 - val_loss: 0.2111\n",
            "Epoch 76/100\n",
            "2/2 [==============================] - 0s 21ms/step - loss: 0.0044 - val_loss: 0.2040\n",
            "Epoch 77/100\n",
            "2/2 [==============================] - 0s 21ms/step - loss: 0.0043 - val_loss: 0.1967\n",
            "Epoch 78/100\n",
            "2/2 [==============================] - 0s 22ms/step - loss: 0.0042 - val_loss: 0.1887\n",
            "Epoch 79/100\n",
            "2/2 [==============================] - 0s 24ms/step - loss: 0.0041 - val_loss: 0.1803\n",
            "Epoch 80/100\n",
            "2/2 [==============================] - 0s 25ms/step - loss: 0.0039 - val_loss: 0.1724\n",
            "Epoch 81/100\n",
            "2/2 [==============================] - 0s 20ms/step - loss: 0.0038 - val_loss: 0.1638\n",
            "Epoch 82/100\n",
            "2/2 [==============================] - 0s 21ms/step - loss: 0.0036 - val_loss: 0.1560\n",
            "Epoch 83/100\n",
            "2/2 [==============================] - 0s 21ms/step - loss: 0.0034 - val_loss: 0.1481\n",
            "Epoch 84/100\n",
            "2/2 [==============================] - 0s 24ms/step - loss: 0.0033 - val_loss: 0.1395\n",
            "Epoch 85/100\n",
            "2/2 [==============================] - 0s 21ms/step - loss: 0.0031 - val_loss: 0.1305\n",
            "Epoch 86/100\n",
            "2/2 [==============================] - 0s 20ms/step - loss: 0.0030 - val_loss: 0.1206\n",
            "Epoch 87/100\n",
            "2/2 [==============================] - 0s 21ms/step - loss: 0.0028 - val_loss: 0.1112\n",
            "Epoch 88/100\n",
            "2/2 [==============================] - 0s 24ms/step - loss: 0.0026 - val_loss: 0.1018\n",
            "Epoch 89/100\n",
            "2/2 [==============================] - 0s 21ms/step - loss: 0.0025 - val_loss: 0.0937\n",
            "Epoch 90/100\n",
            "2/2 [==============================] - 0s 21ms/step - loss: 0.0023 - val_loss: 0.0863\n",
            "Epoch 91/100\n",
            "2/2 [==============================] - 0s 22ms/step - loss: 0.0021 - val_loss: 0.0791\n",
            "Epoch 92/100\n",
            "2/2 [==============================] - 0s 21ms/step - loss: 0.0020 - val_loss: 0.0719\n",
            "Epoch 93/100\n",
            "2/2 [==============================] - 0s 21ms/step - loss: 0.0018 - val_loss: 0.0639\n",
            "Epoch 94/100\n",
            "2/2 [==============================] - 0s 26ms/step - loss: 0.0017 - val_loss: 0.0565\n",
            "Epoch 95/100\n",
            "2/2 [==============================] - 0s 21ms/step - loss: 0.0015 - val_loss: 0.0500\n",
            "Epoch 96/100\n",
            "2/2 [==============================] - 0s 23ms/step - loss: 0.0014 - val_loss: 0.0445\n",
            "Epoch 97/100\n",
            "2/2 [==============================] - 0s 21ms/step - loss: 0.0013 - val_loss: 0.0393\n",
            "Epoch 98/100\n",
            "2/2 [==============================] - 0s 22ms/step - loss: 0.0012 - val_loss: 0.0346\n",
            "Epoch 99/100\n",
            "2/2 [==============================] - 0s 22ms/step - loss: 0.0011 - val_loss: 0.0307\n",
            "Epoch 100/100\n",
            "2/2 [==============================] - 0s 21ms/step - loss: 0.0011 - val_loss: 0.0274\n"
          ],
          "name": "stdout"
        },
        {
          "output_type": "execute_result",
          "data": {
            "text/plain": [
              "<tensorflow.python.keras.callbacks.History at 0x7f46931c1a20>"
            ]
          },
          "metadata": {
            "tags": []
          },
          "execution_count": 844
        }
      ]
    },
    {
      "cell_type": "code",
      "metadata": {
        "id": "qLwotF0LR6kP",
        "colab_type": "code",
        "outputId": "b629a7ca-03ad-4819-8f09-0f275cff9e29",
        "colab": {
          "base_uri": "https://localhost:8080/",
          "height": 34
        }
      },
      "source": [
        "import tensorflow as tf\n",
        "tf.__version__\n"
      ],
      "execution_count": 0,
      "outputs": [
        {
          "output_type": "execute_result",
          "data": {
            "text/plain": [
              "'2.2.0'"
            ]
          },
          "metadata": {
            "tags": []
          },
          "execution_count": 845
        }
      ]
    },
    {
      "cell_type": "code",
      "metadata": {
        "id": "UdoDxBNiR-Cv",
        "colab_type": "code",
        "colab": {}
      },
      "source": [
        "train_predict=model.predict(X_train)\n",
        "test_predict=model.predict(X_test)"
      ],
      "execution_count": 0,
      "outputs": []
    },
    {
      "cell_type": "code",
      "metadata": {
        "id": "jVUuzRtWSAaJ",
        "colab_type": "code",
        "colab": {}
      },
      "source": [
        "train_predict=scaler.inverse_transform(train_predict)\n",
        "test_predict=scaler.inverse_transform(test_predict)"
      ],
      "execution_count": 0,
      "outputs": []
    },
    {
      "cell_type": "code",
      "metadata": {
        "id": "pZwvvwdNSFnV",
        "colab_type": "code",
        "outputId": "ac286fad-b70c-4d71-cb32-e857fbeab2ca",
        "colab": {
          "base_uri": "https://localhost:8080/",
          "height": 34
        }
      },
      "source": [
        "import math\n",
        "from sklearn.metrics import mean_squared_error\n",
        "math.sqrt(mean_squared_error(y_train,train_predict))"
      ],
      "execution_count": 0,
      "outputs": [
        {
          "output_type": "execute_result",
          "data": {
            "text/plain": [
              "811.008244237878"
            ]
          },
          "metadata": {
            "tags": []
          },
          "execution_count": 848
        }
      ]
    },
    {
      "cell_type": "code",
      "metadata": {
        "id": "D4bNCqgSSMh6",
        "colab_type": "code",
        "outputId": "836e3799-7985-4a55-8a92-2b49aba4c9a3",
        "colab": {
          "base_uri": "https://localhost:8080/",
          "height": 34
        }
      },
      "source": [
        "math.sqrt(mean_squared_error(ytest,test_predict))"
      ],
      "execution_count": 0,
      "outputs": [
        {
          "output_type": "execute_result",
          "data": {
            "text/plain": [
              "4022.8207284401424"
            ]
          },
          "metadata": {
            "tags": []
          },
          "execution_count": 849
        }
      ]
    },
    {
      "cell_type": "code",
      "metadata": {
        "id": "Jf0qJxR8SObY",
        "colab_type": "code",
        "outputId": "a2c50db1-5825-4f19-95fc-341e750da092",
        "colab": {
          "base_uri": "https://localhost:8080/",
          "height": 265
        }
      },
      "source": [
        "look_back=6\n",
        "trainPredictPlot = numpy.empty_like(df1)\n",
        "trainPredictPlot[:, :] = np.nan\n",
        "trainPredictPlot[look_back:len(train_predict)+look_back, :] = train_predict\n",
        "# shift test predictions for plotting\n",
        "testPredictPlot = numpy.empty_like(df1)\n",
        "testPredictPlot[:, :] = numpy.nan\n",
        "testPredictPlot[len(train_predict)+(look_back*2)+1:len(df1)-1, :] = test_predict\n",
        "# plot baseline and predictions\n",
        "plt.plot(scaler.inverse_transform(df1))\n",
        "plt.plot(trainPredictPlot)\n",
        "plt.plot(testPredictPlot)\n",
        "plt.show()"
      ],
      "execution_count": 0,
      "outputs": [
        {
          "output_type": "display_data",
          "data": {
            "image/png": "[encoded data removed]",
            "text/plain": [
              "<Figure size 432x288 with 1 Axes>"
            ]
          },
          "metadata": {
            "tags": [],
            "needs_background": "light"
          }
        }
      ]
    },
    {
      "cell_type": "code",
      "metadata": {
        "id": "LILIujBXSRCQ",
        "colab_type": "code",
        "outputId": "c616613a-6f74-4096-82c8-1b6996aa2791",
        "colab": {
          "base_uri": "https://localhost:8080/",
          "height": 34
        }
      },
      "source": [
        "print(len(test_data))"
      ],
      "execution_count": 0,
      "outputs": [
        {
          "output_type": "stream",
          "text": [
            "26\n"
          ],
          "name": "stdout"
        }
      ]
    },
    {
      "cell_type": "code",
      "metadata": {
        "id": "yjeVUWLVSXwA",
        "colab_type": "code",
        "outputId": "59c99604-ba6d-4c38-d907-75c7e72e7d5f",
        "colab": {
          "base_uri": "https://localhost:8080/",
          "height": 34
        }
      },
      "source": [
        "x_input=test_data[20:].reshape(1,-1)\n",
        "x_input.shape"
      ],
      "execution_count": 0,
      "outputs": [
        {
          "output_type": "execute_result",
          "data": {
            "text/plain": [
              "(1, 6)"
            ]
          },
          "metadata": {
            "tags": []
          },
          "execution_count": 852
        }
      ]
    },
    {
      "cell_type": "code",
      "metadata": {
        "id": "RiE-9vf7SblR",
        "colab_type": "code",
        "colab": {}
      },
      "source": [
        "temp_input=list(x_input)\n",
        "temp_input=temp_input[0].tolist()"
      ],
      "execution_count": 0,
      "outputs": []
    },
    {
      "cell_type": "code",
      "metadata": {
        "id": "6tgjYc-VSde6",
        "colab_type": "code",
        "colab": {}
      },
      "source": [
        "from numpy import array"
      ],
      "execution_count": 0,
      "outputs": []
    },
    {
      "cell_type": "code",
      "metadata": {
        "id": "6cozzylESfdO",
        "colab_type": "code",
        "outputId": "3f8dc83e-2278-4133-c5ed-649eec7ebdeb",
        "colab": {
          "base_uri": "https://localhost:8080/",
          "height": 258
        }
      },
      "source": [
        "lst_output=[]\n",
        "n_steps=6\n",
        "i=0\n",
        "while(i<6):\n",
        "    \n",
        "    if(len(temp_input)>10):\n",
        "        #print(temp_input)\n",
        "        x_input=np.array(temp_input[1:])\n",
        "        #print(\"{} day input {}\".format(i,x_input))\n",
        "        x_input=x_input.reshape(1,-1)\n",
        "        x_input = x_input.reshape((x_input.shape[0], x_input.shape[1], 1))\n",
        "        print(x_input)\n",
        "        yhat = model.predict(x_input, verbose=0)\n",
        "        print(\"{} day output {}\".format(i,scaler.inverse_transform(yhat)))\n",
        "        temp_input.extend(yhat[0].tolist())\n",
        "        temp_input=temp_input[1:]\n",
        "        #print(temp_input)\n",
        "        lst_output.extend(yhat.tolist())\n",
        "        i=i+1\n",
        "    else:\n",
        "        x_input = x_input.reshape((x_input.shape[0], x_input.shape[1],1))\n",
        "        yhat = model.predict(x_input, verbose=0)\n",
        "        #print(yhat[0])\n",
        "        temp_input.extend(yhat[0].tolist())\n",
        "        #print(len(temp_input))\n",
        "        lst_output.extend(yhat.tolist())\n",
        "        i=i+1\n",
        "print(lst_output)"
      ],
      "execution_count": 0,
      "outputs": [
        {
          "output_type": "stream",
          "text": [
            "[[[0.923]\n",
            "  [0.932]\n",
            "  [1.   ]\n",
            "  [0.902]\n",
            "  [0.821]\n",
            "  [0.73 ]\n",
            "  [0.73 ]\n",
            "  [0.73 ]\n",
            "  [0.73 ]\n",
            "  [0.73 ]]]\n",
            "WARNING:tensorflow:Model was constructed with shape (None, 6, 1) for input Tensor(\"lstm_69_input:0\", shape=(None, 6, 1), dtype=float32), but it was called on an input with incompatible shape (None, 10, 1).\n",
            "5 day output [[6956.199]]\n",
            "[[0.7299187779426575], [0.7299187779426575], [0.7299187779426575], [0.7299187779426575], [0.7299187779426575], [0.9779557585716248]]\n"
          ],
          "name": "stdout"
        }
      ]
    },
    {
      "cell_type": "code",
      "metadata": {
        "id": "eLxpIh1YShmo",
        "colab_type": "code",
        "outputId": "64a9d11e-58f3-4d98-c002-69070ab05d57",
        "colab": {
          "base_uri": "https://localhost:8080/",
          "height": 34
        }
      },
      "source": [
        "day_new=np.arange(1,7)\n",
        "day_pred=np.arange(8,14)\n",
        "day_new.shape, day_pred.shape"
      ],
      "execution_count": 0,
      "outputs": [
        {
          "output_type": "execute_result",
          "data": {
            "text/plain": [
              "((6,), (6,))"
            ]
          },
          "metadata": {
            "tags": []
          },
          "execution_count": 856
        }
      ]
    },
    {
      "cell_type": "code",
      "metadata": {
        "id": "HDRKmYM6S39U",
        "colab_type": "code",
        "colab": {}
      },
      "source": [
        "import matplotlib.pyplot as plt"
      ],
      "execution_count": 0,
      "outputs": []
    },
    {
      "cell_type": "code",
      "metadata": {
        "id": "pr-kA95KTSIj",
        "colab_type": "code",
        "outputId": "4c074509-1225-4229-b18b-07518a4407fc",
        "colab": {
          "base_uri": "https://localhost:8080/",
          "height": 34
        }
      },
      "source": [
        "len(df1), scaler.inverse_transform(df1[79:]).shape, scaler.inverse_transform(lst_output).shape"
      ],
      "execution_count": 0,
      "outputs": [
        {
          "output_type": "execute_result",
          "data": {
            "text/plain": [
              "(85, (6, 1), (6, 1))"
            ]
          },
          "metadata": {
            "tags": []
          },
          "execution_count": 858
        }
      ]
    },
    {
      "cell_type": "code",
      "metadata": {
        "id": "YO6A4HtITT74",
        "colab_type": "code",
        "outputId": "79aca41e-a7df-4640-9df5-1be6ee53fd82",
        "colab": {
          "base_uri": "https://localhost:8080/",
          "height": 282
        }
      },
      "source": [
        "plt.plot(day_new,scaler.inverse_transform(df1[79:]))\n",
        "plt.plot(day_pred,scaler.inverse_transform(lst_output))"
      ],
      "execution_count": 0,
      "outputs": [
        {
          "output_type": "execute_result",
          "data": {
            "text/plain": [
              "[<matplotlib.lines.Line2D at 0x7f469080e860>]"
            ]
          },
          "metadata": {
            "tags": []
          },
          "execution_count": 859
        },
        {
          "output_type": "display_data",
          "data": {
            "image/png": "[encoded data removed]",
            "text/plain": [
              "<Figure size 432x288 with 1 Axes>"
            ]
          },
          "metadata": {
            "tags": [],
            "needs_background": "light"
          }
        }
      ]
    },
    {
      "cell_type": "code",
      "metadata": {
        "id": "gTLpa0pxTYjb",
        "colab_type": "code",
        "outputId": "e207b1ff-54df-4c41-a41b-5126c0c53b0a",
        "colab": {
          "base_uri": "https://localhost:8080/",
          "height": 282
        }
      },
      "source": [
        "df3=df1.tolist()\n",
        "df3.extend(lst_output)\n",
        "plt.plot(df3[79:])"
      ],
      "execution_count": 0,
      "outputs": [
        {
          "output_type": "execute_result",
          "data": {
            "text/plain": [
              "[<matplotlib.lines.Line2D at 0x7f468fcd60f0>]"
            ]
          },
          "metadata": {
            "tags": []
          },
          "execution_count": 860
        },
        {
          "output_type": "display_data",
          "data": {
            "image/png": "[encoded data removed]",
            "text/plain": [
              "<Figure size 432x288 with 1 Axes>"
            ]
          },
          "metadata": {
            "tags": [],
            "needs_background": "light"
          }
        }
      ]
    },
    {
      "cell_type": "code",
      "metadata": {
        "id": "LFmRNJoYUMnO",
        "colab_type": "code",
        "colab": {}
      },
      "source": [
        ""
      ],
      "execution_count": 0,
      "outputs": []
    }
  ]
}